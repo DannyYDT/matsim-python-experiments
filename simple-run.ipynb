{
 "cells": [
  {
   "cell_type": "markdown",
   "metadata": {},
   "source": [
    "# JPype and MATSim: Start a Simple Run\n",
    "## Setup\n",
    "\n",
    "First, python imports, including `jpype` and `jpype.import` (which allows to import java classes as if they were Python) "
   ]
  },
  {
   "cell_type": "code",
   "execution_count": 1,
   "metadata": {
    "attributes": {
     "classes": [],
     "id": "",
     "n": "2"
    }
   },
   "outputs": [],
   "source": [
    "import jpype as jp\n",
    "import jpype.imports as jimport\n",
    "import os\n",
    "from shutil import rmtree"
   ]
  },
  {
   "cell_type": "markdown",
   "metadata": {},
   "source": [
    "Then, configure jpype:\n",
    "- register the \"org\" domain, to be able to import java packages starting with \"org.\"\n",
    "- set the classpath to the location of the MATSim release and its dependencies\n",
    "- start the JVM\n",
    "\n",
    "This needs to be done before importing things from Java"
   ]
  },
  {
   "cell_type": "code",
   "execution_count": 2,
   "metadata": {
    "attributes": {
     "classes": [],
     "id": "",
     "n": "2"
    }
   },
   "outputs": [],
   "source": [
    "jimport.registerDomain('org')\n",
    "\n",
    "classpath = os.pathsep.join(('matsim-0.10.1/matsim-0.10.1.jar', 'matsim-0.10.1/lib/*'))\n",
    "jp.startJVM(jp.getDefaultJVMPath(), '-Djava.class.path=%s' % classpath)"
   ]
  },
  {
   "cell_type": "markdown",
   "metadata": {},
   "source": [
    "Now, we are able to import any MATSim class as if it was native Python!"
   ]
  },
  {
   "cell_type": "code",
   "execution_count": 3,
   "metadata": {
    "attributes": {
     "classes": [],
     "id": "",
     "n": "2"
    }
   },
   "outputs": [],
   "source": [
    "from org.matsim.core.scenario import ScenarioUtils\n",
    "from org.matsim.core.config import ConfigUtils\n",
    "from org.matsim.api.core.v01 import Id\n",
    "from org.matsim.core.controler import Controler\n",
    "from org.matsim.core.controler.OutputDirectoryHierarchy import OverwriteFileSetting"
   ]
  },
  {
   "cell_type": "markdown",
   "metadata": {},
   "source": [
    "## Create a Scenario\n",
    "\n",
    "Now we can create a `Config` and `Scenario` pretty much as we would do it in Java."
   ]
  },
  {
   "cell_type": "code",
   "execution_count": 4,
   "metadata": {
    "attributes": {
     "classes": [],
     "id": "",
     "n": "3"
    }
   },
   "outputs": [],
   "source": [
    "config = ConfigUtils.createConfig()\n",
    "config.controler().setLastIteration(0)\n",
    "config.controler().setOverwriteFileSetting(OverwriteFileSetting.deleteDirectoryIfExists)"
   ]
  },
  {
   "cell_type": "code",
   "execution_count": 5,
   "metadata": {
    "attributes": {
     "classes": [],
     "id": "",
     "n": "11"
    }
   },
   "outputs": [],
   "source": [
    "scenario = ScenarioUtils.createScenario(config)"
   ]
  },
  {
   "cell_type": "code",
   "execution_count": 6,
   "metadata": {
    "attributes": {
     "classes": [],
     "id": "",
     "n": "12"
    }
   },
   "outputs": [
    {
     "data": {
      "text/plain": [
       "'{0=[id=0][nof_plans=1], 1=[id=1][nof_plans=1], 2=[id=2][nof_plans=1], 3=[id=3][nof_plans=1], 4=[id=4][nof_plans=1], 5=[id=5][nof_plans=1], 6=[id=6][nof_plans=1], 7=[id=7][nof_plans=1], 8=[id=8][nof_plans=1], 9=[id=9][nof_plans=1]}'"
      ]
     },
     "execution_count": 6,
     "metadata": {},
     "output_type": "execute_result"
    }
   ],
   "source": [
    "population_factory = scenario.getPopulation().getFactory()\n",
    "\n",
    "for id in range(10):\n",
    "    person = population_factory.createPerson(Id.createPersonId(id))\n",
    "    plan = population_factory.createPlan()\n",
    "    person.addPlan(plan)\n",
    "    scenario.getPopulation().addPerson(person)\n",
    "\n",
    "scenario.getPopulation().getPersons().toString()"
   ]
  },
  {
   "cell_type": "markdown",
   "metadata": {},
   "source": [
    "## Run\n",
    "\n",
    "We are now ready to run the simulation"
   ]
  },
  {
   "cell_type": "code",
   "execution_count": 7,
   "metadata": {
    "attributes": {
     "classes": [],
     "id": "",
     "n": "12"
    }
   },
   "outputs": [],
   "source": [
    "controler = Controler(scenario)\n",
    "controler.run()"
   ]
  },
  {
   "cell_type": "markdown",
   "metadata": {},
   "source": [
    "Unfortunately (or not, depending on how verbose you like your notebooks), the MATSim log is not displayed. But I can assure you that it worked, look:"
   ]
  },
  {
   "cell_type": "code",
   "execution_count": 8,
   "metadata": {},
   "outputs": [
    {
     "data": {
      "text/plain": [
       "['output_personAttributes.xml.gz',\n",
       " 'output_vehicles.xml.gz',\n",
       " 'output_network.xml.gz',\n",
       " 'stopwatch.png',\n",
       " 'logfileWarningsErrors.log',\n",
       " 'ITERS',\n",
       " 'scorestats.txt',\n",
       " 'traveldistancestats.txt',\n",
       " 'modestats.txt',\n",
       " 'tmp',\n",
       " 'logfile.log',\n",
       " 'output_lanes.xml.gz',\n",
       " 'output_events.xml.gz',\n",
       " 'output_plans.xml.gz',\n",
       " 'output_facilities.xml.gz',\n",
       " 'output_config.xml',\n",
       " 'output_counts.xml.gz',\n",
       " 'output_households.xml.gz',\n",
       " 'stopwatch.txt']"
      ]
     },
     "execution_count": 8,
     "metadata": {},
     "output_type": "execute_result"
    }
   ],
   "source": [
    "os.listdir('output')"
   ]
  },
  {
   "cell_type": "code",
   "execution_count": 9,
   "metadata": {},
   "outputs": [],
   "source": [
    "rmtree('output')"
   ]
  },
  {
   "cell_type": "code",
   "execution_count": null,
   "metadata": {},
   "outputs": [],
   "source": []
  }
 ],
 "metadata": {
  "kernelspec": {
   "display_name": "Python 3",
   "language": "python",
   "name": "python3"
  },
  "language_info": {
   "codemirror_mode": {
    "name": "ipython",
    "version": 3
   },
   "file_extension": ".py",
   "mimetype": "text/x-python",
   "name": "python",
   "nbconvert_exporter": "python",
   "pygments_lexer": "ipython3",
   "version": "3.6.6"
  }
 },
 "nbformat": 4,
 "nbformat_minor": 2
}
